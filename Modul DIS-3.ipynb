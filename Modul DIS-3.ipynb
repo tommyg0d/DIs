{
 "cells": [
  {
   "cell_type": "markdown",
   "metadata": {},
   "source": [
    "# Moдуль DIS"
   ]
  },
  {
   "cell_type": "markdown",
   "metadata": {},
   "source": [
    "В поисках описания данного модуля наткнулся на статью, в которой рассуждалось, что dis работает быстрее, чем модуль \"pow\" и это стало побудителем моего интереса к данному модулую. Почему и как он работает быстрее... (Работает быстрее всего на 0,1 мкс)"
   ]
  },
  {
   "cell_type": "markdown",
   "metadata": {},
   "source": [
    "Проерим данное утверждение модулем \"timeit\""
   ]
  },
  {
   "cell_type": "code",
   "execution_count": 33,
   "metadata": {},
   "outputs": [],
   "source": [
    "import timeit"
   ]
  },
  {
   "cell_type": "code",
   "execution_count": 38,
   "metadata": {},
   "outputs": [
    {
     "name": "stdout",
     "output_type": "stream",
     "text": [
      "500000 loops, best of 5: 491 nsec per loop\r\n"
     ]
    }
   ],
   "source": [
    "!python -m timeit 'pow(5,55)'"
   ]
  },
  {
   "cell_type": "code",
   "execution_count": 39,
   "metadata": {},
   "outputs": [
    {
     "name": "stdout",
     "output_type": "stream",
     "text": [
      "500000 loops, best of 5: 421 nsec per loop\r\n"
     ]
    }
   ],
   "source": [
    "!python -m timeit '5**55'"
   ]
  },
  {
   "cell_type": "markdown",
   "metadata": {},
   "source": [
    "Причина, по которой pow работает чуть-чуть медленнее заключается в том, что появляется дополнительный шаг загрузки pow из пространства имен. Тогда как при вызове (5**'55) такая загрузка не требуется, и в дальнейшем возрастании входных значей, эта разница останется более мене постоянной... "
   ]
  },
  {
   "cell_type": "markdown",
   "metadata": {},
   "source": [
    "Проверим это"
   ]
  },
  {
   "cell_type": "code",
   "execution_count": 46,
   "metadata": {},
   "outputs": [
    {
     "name": "stdout",
     "output_type": "stream",
     "text": [
      "100000 loops, best of 5: 3.3 usec per loop\r\n"
     ]
    }
   ],
   "source": [
    "!python -m timeit 'pow(55,555)'"
   ]
  },
  {
   "cell_type": "code",
   "execution_count": 47,
   "metadata": {},
   "outputs": [
    {
     "name": "stdout",
     "output_type": "stream",
     "text": [
      "100000 loops, best of 5: 3.25 usec per loop\r\n"
     ]
    }
   ],
   "source": [
    "!python -m timeit '(55**555)'"
   ]
  },
  {
   "cell_type": "markdown",
   "metadata": {},
   "source": [
    "Модуль DIS позволяет декомпилироваться байд-код питона и изучить его"
   ]
  },
  {
   "cell_type": "code",
   "execution_count": 48,
   "metadata": {},
   "outputs": [],
   "source": [
    "import dis"
   ]
  },
  {
   "cell_type": "code",
   "execution_count": 52,
   "metadata": {},
   "outputs": [
    {
     "name": "stdout",
     "output_type": "stream",
     "text": [
      "  1           0 LOAD_NAME                0 (pow)\n",
      "              2 LOAD_CONST               0 (5)\n",
      "              4 LOAD_CONST               1 (55)\n",
      "              6 CALL_FUNCTION            2\n",
      "              8 RETURN_VALUE\n"
     ]
    }
   ],
   "source": [
    "dis.dis('pow(5,55)')"
   ]
  },
  {
   "cell_type": "code",
   "execution_count": 60,
   "metadata": {},
   "outputs": [
    {
     "name": "stdout",
     "output_type": "stream",
     "text": [
      "  1           0 LOAD_CONST               0 (5)\n",
      "              2 LOAD_CONST               1 (55)\n",
      "              4 BINARY_POWER\n",
      "              6 RETURN_VALUE\n"
     ]
    }
   ],
   "source": [
    "dis.dis('5**55')"
   ]
  },
  {
   "cell_type": "code",
   "execution_count": 59,
   "metadata": {},
   "outputs": [
    {
     "name": "stdout",
     "output_type": "stream",
     "text": [
      "  1           0 LOAD_CONST               0 (5)\n",
      "              2 LOAD_CONST               1 (55)\n",
      "              4 BINARY_POWER\n",
      "              6 RETURN_VALUE\n"
     ]
    }
   ],
   "source": [
    "dis.dis('5**55')"
   ]
  },
  {
   "cell_type": "markdown",
   "metadata": {},
   "source": [
    "Python - это гибридный интерпретатор. При запуске программы, она первая монтирует его в байт - код , который затем может быть запущен в интерпретаторе Python (также называемой виртуальной машины Python). DIS модуль в стандартной библиотеке можно использовать , чтобы сделать Python байткодом читаемый человеком разборкой классы, методы, функции и объекты кода.\n",
    "\n"
   ]
  },
  {
   "cell_type": "code",
   "execution_count": 93,
   "metadata": {},
   "outputs": [
    {
     "name": "stdout",
     "output_type": "stream",
     "text": [
      "  2           0 LOAD_GLOBAL              0 (print)\n",
      "              2 LOAD_CONST               1 ('Hello, World')\n",
      "              4 CALL_FUNCTION            1\n",
      "              6 POP_TOP\n",
      "              8 LOAD_CONST               0 (None)\n",
      "             10 RETURN_VALUE\n"
     ]
    }
   ],
   "source": [
    "def hello():\n",
    "    print (\"Hello, World\")\n",
    "    \n",
    "dis.dis(hello)"
   ]
  },
  {
   "cell_type": "code",
   "execution_count": 73,
   "metadata": {},
   "outputs": [
    {
     "name": "stdout",
     "output_type": "stream",
     "text": [
      "  1           0 LOAD_NAME                0 (Hello)\n",
      "              2 LOAD_NAME                1 (World)\n",
      "              4 BUILD_TUPLE              2\n",
      "              6 RETURN_VALUE\n"
     ]
    }
   ],
   "source": [
    "dis.dis(\"Hello, World\")"
   ]
  },
  {
   "cell_type": "markdown",
   "metadata": {},
   "source": [
    "Интерпретатор Python основан на стеке и использует систему «первым пришел - последним вышел».\n",
    "\n",
    "Каждый код операции (код операции) на языке ассемблера Python (байт-код) берет фиксированное количество элементов из стека и возвращает фиксированное количество элементов в стек. Если в стеке недостаточно элементов для кода операции, интерпретатор Python завершится сбоем, возможно, без сообщения об ошибке."
   ]
  },
  {
   "cell_type": "markdown",
   "metadata": {},
   "source": [
    "Чтобы разобрать модуль Python, первое, что нужно сделать - это превратить файл в .pyc, чтобы питон был скомпилирован, а далее запустить следующий код.\n",
    "\n"
   ]
  },
  {
   "cell_type": "code",
   "execution_count": null,
   "metadata": {},
   "outputs": [],
   "source": [
    "!python -m compileall <Unicon_raspisanie>.py"
   ]
  },
  {
   "cell_type": "markdown",
   "metadata": {},
   "source": [
    "Затем запустить"
   ]
  },
  {
   "cell_type": "markdown",
   "metadata": {},
   "source": [
    "**import marshal**\n",
    "Предоставляет коллекцию методов для выделения неуправляемой памяти, копирования блоков неуправляемой памяти и преобразования управляемых типов в неуправляемые, а также прочих разнообразных методов, используемых при взаимодействии с неуправляемым кодом."
   ]
  },
  {
   "cell_type": "code",
   "execution_count": null,
   "metadata": {
    "scrolled": false
   },
   "outputs": [],
   "source": [
    "import dis\n",
    "import marshal \n",
    "lol = \"/Users/danilalobar/Desktop/me/Unicon_raspisanie.py\"\n",
    "with open(lol, \"rb\") as code_f:\n",
    "    code_f.readline(8) # Число и время модификации\n",
    "    code = marshal.load(code_f) # Возвращение объект кода, который может быть разобран\n",
    "    dis.dis(code) # Вывод демонтажа"
   ]
  },
  {
   "cell_type": "markdown",
   "metadata": {},
   "source": [
    "Это будет компилировать модуль Python и вывод инструкцию байткода с dis .\n",
    "Модуль никогда не импортируется,\n",
    "поэтомуего можно использовать с недоверенным кодом."
   ]
  },
  {
   "cell_type": "markdown",
   "metadata": {},
   "source": [
    "# Задание\n"
   ]
  },
  {
   "cell_type": "raw",
   "metadata": {},
   "source": [
    "Декомпилироваться байд-код питона и изучить его на примере данных вычислений: 1) 4**76 2) 4**77"
   ]
  },
  {
   "cell_type": "markdown",
   "metadata": {},
   "source": [
    "Создать функцию с использованием print и изучить байт-код"
   ]
  },
  {
   "cell_type": "code",
   "execution_count": null,
   "metadata": {},
   "outputs": [],
   "source": []
  },
  {
   "cell_type": "code",
   "execution_count": null,
   "metadata": {},
   "outputs": [],
   "source": []
  },
  {
   "cell_type": "code",
   "execution_count": null,
   "metadata": {},
   "outputs": [],
   "source": []
  }
 ],
 "metadata": {
  "kernelspec": {
   "display_name": "Python 3",
   "language": "python",
   "name": "python3"
  },
  "language_info": {
   "codemirror_mode": {
    "name": "ipython",
    "version": 3
   },
   "file_extension": ".py",
   "mimetype": "text/x-python",
   "name": "python",
   "nbconvert_exporter": "python",
   "pygments_lexer": "ipython3",
   "version": "3.7.4"
  }
 },
 "nbformat": 4,
 "nbformat_minor": 2
}
