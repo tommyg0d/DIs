{
 "cells": [
  {
   "cell_type": "markdown",
   "metadata": {},
   "source": [
    "# Модуль pathlib"
   ]
  },
  {
   "cell_type": "markdown",
   "metadata": {},
   "source": [
    "Модуль Pathlib в Python упрощает работу с файлами и папками. В Python большинство скриптов предполагает работу с файловыми системами. Следовательно, неизбежно взаимодействие с названиями файлов и путями. Именно для этого в Python есть модуль Pathlib, который содержит полезные функции для выполнения задач, связанных с файлами. Pathlib предоставляет удобный для чтения и простой способ создания путей, представляя пути файловой системы в виде надлежащих объектов. Модуль позволяет создавать код, который можно переносить между платформами."
   ]
  },
  {
   "cell_type": "markdown",
   "metadata": {},
   "source": [
    "*Для работы с Pathlib в Python требуется импортировать все классы данного модуля, используя следующую команду:*"
   ]
  },
  {
   "cell_type": "code",
   "execution_count": 1,
   "metadata": {},
   "outputs": [],
   "source": [
    "from pathlib import *"
   ]
  },
  {
   "cell_type": "code",
   "execution_count": 2,
   "metadata": {},
   "outputs": [
    {
     "name": "stdout",
     "output_type": "stream",
     "text": [
      "/Users/danilalobar\n",
      "/Users/danilalobar\n"
     ]
    }
   ],
   "source": [
    "current_dir = Path.cwd()\n",
    "home_dir = Path.home()\n",
    " \n",
    "print(current_dir)\n",
    "print(home_dir)"
   ]
  },
  {
   "cell_type": "markdown",
   "metadata": {},
   "source": [
    "Первое - текущая рабочая директория.\n",
    "Второе - домашняя директория.\n",
    "Так как я работаю через мак, то у меня две директории совпадают"
   ]
  },
  {
   "cell_type": "markdown",
   "metadata": {},
   "source": [
    "*Вместо импорта всех классов можно использовать import pathlib. В таком случае, задействуя классы внутри модуля, требуется добавлять через pathlib.*"
   ]
  },
  {
   "cell_type": "code",
   "execution_count": 3,
   "metadata": {},
   "outputs": [
    {
     "name": "stdout",
     "output_type": "stream",
     "text": [
      "/Users/danilalobar\n",
      "/Users/danilalobar\n"
     ]
    }
   ],
   "source": [
    "import pathlib\n",
    " \n",
    "current_dir = pathlib.Path.cwd()\n",
    "home_dir = pathlib.Path.home()\n",
    " \n",
    "print(current_dir)\n",
    "print(home_dir)"
   ]
  },
  {
   "cell_type": "markdown",
   "metadata": {},
   "source": [
    "Допустим, мы хотим создать файл под названием \"johnny/cash.xlsx\" в текущем рабочем каталоге."
   ]
  },
  {
   "cell_type": "code",
   "execution_count": 6,
   "metadata": {},
   "outputs": [],
   "source": [
    "from pathlib import Path\n",
    "outpath = Path.cwd() / 'johnny' / 'cash.txt'"
   ]
  },
  {
   "cell_type": "markdown",
   "metadata": {},
   "source": [
    "И данынй файл появится в директории"
   ]
  },
  {
   "cell_type": "markdown",
   "metadata": {},
   "source": [
    "**Создание и удаление папок через Pathlib**"
   ]
  },
  {
   "cell_type": "code",
   "execution_count": 20,
   "metadata": {},
   "outputs": [
    {
     "name": "stdout",
     "output_type": "stream",
     "text": [
      "/usr/share\n"
     ]
    }
   ],
   "source": [
    "from pathlib import *\n",
    "usr_local = pathlib.Path('/usr/local')\n",
    "share = usr_local / '..' / 'share'\n",
    "print(share.resolve())\n"
   ]
  },
  {
   "cell_type": "markdown",
   "metadata": {},
   "source": [
    "Здесь относительный путь преобразуется в абсолютный путь /usr/share.\n",
    "Если входной путь включает символические ссылки, то они тоже раскрываются,\n",
    "позволяя разрешенному пути ссылаться непосредственно на целевой объект."
   ]
  },
  {
   "cell_type": "code",
   "execution_count": 23,
   "metadata": {},
   "outputs": [
    {
     "name": "stdout",
     "output_type": "stream",
     "text": [
      "('/', 'User', 'danilalobar')\n"
     ]
    }
   ],
   "source": [
    "import pathlib\n",
    "p = pathlib.PurePosixPath('/User/danilalobar')\n",
    "print(p.parts)"
   ]
  },
  {
   "cell_type": "markdown",
   "metadata": {},
   "source": [
    "Указанная последовательность является кортежем, что отражает неизменяемость экземпляра пути.\n",
    "Существуют два способа навигации от данного объекта пути вверх по иерархии файловой системы. Свойство parent ссылается на экземпляр нового пути для каталога, содержащего данный путь, — значение, возвращаемое функцией os.path.dirname(). Свойство parents — итерируемый объект, предоставляющий ссылки на родительские каталоги, которые соответствуют последовательному перемещению вверх по иерархическому дереву путей, пока не будет достигнут корневой каталог."
   ]
  },
  {
   "cell_type": "markdown",
   "metadata": {},
   "source": [
    "import pathlib\n",
    "p = pathlib.PurePosixPath('/usr/local/lib')\n",
    "print('parent: {}'.format(p.parent))\n",
    "print('\\nhierarchy:')\n",
    "for up in p.parents:\n",
    "    print(up)"
   ]
  },
  {
   "cell_type": "markdown",
   "metadata": {},
   "source": [
    "В этом примере выполняются итерации по свойствy parents и выводятся значения элементов."
   ]
  },
  {
   "cell_type": "code",
   "execution_count": null,
   "metadata": {},
   "outputs": [],
   "source": []
  },
  {
   "cell_type": "markdown",
   "metadata": {},
   "source": [
    "Для удаления объектов файловой системы существуют два метода, предназначенных для разных типов объектов. Если необходимо удалить пустой каталог, используйте метод rmdir ()."
   ]
  },
  {
   "cell_type": "code",
   "execution_count": 31,
   "metadata": {},
   "outputs": [
    {
     "name": "stdout",
     "output_type": "stream",
     "text": [
      "Removing cash\n"
     ]
    }
   ],
   "source": [
    "import pathlib\n",
    "p = pathlib.Path('cash')\n",
    "print('Removing {}'.format(p))\n",
    "p.rmdir()"
   ]
  },
  {
   "cell_type": "markdown",
   "metadata": {},
   "source": [
    "продемонстрировать"
   ]
  },
  {
   "cell_type": "markdown",
   "metadata": {},
   "source": [
    "# Задания"
   ]
  },
  {
   "cell_type": "markdown",
   "metadata": {},
   "source": [
    "* 1) создать и удалить каталог "
   ]
  },
  {
   "cell_type": "markdown",
   "metadata": {},
   "source": [
    "* 2) Посмотреть на личном опыте работоспособность кода,показывающий относительный код, преобразующий в абсолютный "
   ]
  },
  {
   "cell_type": "code",
   "execution_count": null,
   "metadata": {},
   "outputs": [],
   "source": []
  }
 ],
 "metadata": {
  "kernelspec": {
   "display_name": "Python 3",
   "language": "python",
   "name": "python3"
  },
  "language_info": {
   "codemirror_mode": {
    "name": "ipython",
    "version": 3
   },
   "file_extension": ".py",
   "mimetype": "text/x-python",
   "name": "python",
   "nbconvert_exporter": "python",
   "pygments_lexer": "ipython3",
   "version": "3.7.4"
  }
 },
 "nbformat": 4,
 "nbformat_minor": 2
}
